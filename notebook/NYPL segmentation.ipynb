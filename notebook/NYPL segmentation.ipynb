{
 "cells": [
  {
   "cell_type": "code",
   "execution_count": 121,
   "metadata": {
    "collapsed": false
   },
   "outputs": [],
   "source": [
    "import json\n",
    "from glob import glob\n",
    "import sklearn.decomposition\n",
    "import sklearn.preprocessing\n",
    "import sklearn.feature_extraction\n",
    "import sklearn.pipeline"
   ]
  },
  {
   "cell_type": "code",
   "execution_count": 122,
   "metadata": {
    "collapsed": false
   },
   "outputs": [],
   "source": [
    "import matplotlib.pyplot as plt\n",
    "%matplotlib nbagg\n",
    "\n",
    "import numpy as np"
   ]
  },
  {
   "cell_type": "code",
   "execution_count": 123,
   "metadata": {
    "collapsed": true
   },
   "outputs": [],
   "source": [
    "def chunker(lines):\n",
    "    \n",
    "    chunks = []\n",
    "    chunk = ''\n",
    "    speaker_id = lines[0]['speaker_id']\n",
    "    \n",
    "    for line in lines:\n",
    "        if speaker_id == line['speaker_id']:\n",
    "            chunk = chunk + ' ' + line['best_text']\n",
    "        else:\n",
    "            chunks.append(chunk)\n",
    "            chunk = line['best_text']\n",
    "            speaker_id = line['speaker_id']\n",
    "            \n",
    "    chunks.append(chunk)\n",
    "    return chunks"
   ]
  },
  {
   "cell_type": "code",
   "execution_count": 179,
   "metadata": {
    "collapsed": true
   },
   "outputs": [],
   "source": [
    "files = sorted(glob('/home/bmcfee/data/data-*/transcripts/json/*.json'))"
   ]
  },
  {
   "cell_type": "code",
   "execution_count": 180,
   "metadata": {
    "collapsed": true
   },
   "outputs": [],
   "source": [
    "docs = []\n",
    "for file in files:\n",
    "    data = json.load(open(file, 'r'))\n",
    "    docs.extend(chunker(data['lines']))"
   ]
  },
  {
   "cell_type": "code",
   "execution_count": 181,
   "metadata": {
    "collapsed": false
   },
   "outputs": [
    {
     "data": {
      "text/plain": [
       "4892"
      ]
     },
     "execution_count": 181,
     "metadata": {},
     "output_type": "execute_result"
    }
   ],
   "source": [
    "len(docs)"
   ]
  },
  {
   "cell_type": "code",
   "execution_count": 420,
   "metadata": {
    "collapsed": false
   },
   "outputs": [],
   "source": [
    "import spacy"
   ]
  },
  {
   "cell_type": "code",
   "execution_count": 422,
   "metadata": {
    "collapsed": false
   },
   "outputs": [],
   "source": [
    "nlp = spacy.load('en')"
   ]
  },
  {
   "cell_type": "code",
   "execution_count": 432,
   "metadata": {
    "collapsed": true
   },
   "outputs": [],
   "source": [
    "def nounify(doc):\n",
    "    \n",
    "    return ' '.join([chunk.lemma_ for chunk in nlp(doc).noun_chunks])"
   ]
  },
  {
   "cell_type": "code",
   "execution_count": 433,
   "metadata": {
    "collapsed": false
   },
   "outputs": [
    {
     "data": {
      "text/plain": [
       "\" My name is Brian have broke today's June ninth we're at the newest breach of the Brooklyn public library. I'm joined by Barbara Hobson for our streets our story.\""
      ]
     },
     "execution_count": 433,
     "metadata": {},
     "output_type": "execute_result"
    }
   ],
   "source": [
    "docs[0]"
   ]
  },
  {
   "cell_type": "code",
   "execution_count": 434,
   "metadata": {
    "collapsed": false
   },
   "outputs": [
    {
     "data": {
      "text/plain": [
       "\"my name today 's june ninth the new breach the brooklyn public library our street\""
      ]
     },
     "execution_count": 434,
     "metadata": {},
     "output_type": "execute_result"
    }
   ],
   "source": [
    "nounify(docs[0])"
   ]
  },
  {
   "cell_type": "code",
   "execution_count": 443,
   "metadata": {
    "collapsed": false
   },
   "outputs": [],
   "source": [
    "P = sklearn.pipeline.Pipeline( [('counts', sklearn.feature_extraction.text.CountVectorizer(strip_accents='ascii',\n",
    "                                                                                           min_df=10,\n",
    "                                                                                           #max_df=0.5,\n",
    "                                                                                           stop_words='english')),\n",
    "                                \n",
    "                                ('LDA', sklearn.decomposition.LatentDirichletAllocation(n_topics=12,\n",
    "                                                                                        max_iter=100,\n",
    "                                                                                        learning_method='batch'))])"
   ]
  },
  {
   "cell_type": "code",
   "execution_count": 435,
   "metadata": {
    "collapsed": true
   },
   "outputs": [],
   "source": [
    "noundocs = [nounify(_) for _ in docs]"
   ]
  },
  {
   "cell_type": "code",
   "execution_count": 444,
   "metadata": {
    "collapsed": false
   },
   "outputs": [],
   "source": [
    "#y = P.fit_transform(docs)\n",
    "y = P.fit_transform(noundocs)"
   ]
  },
  {
   "cell_type": "code",
   "execution_count": 445,
   "metadata": {
    "collapsed": true
   },
   "outputs": [],
   "source": [
    "def print_top_words(model, feature_names, n_top_words):\n",
    "    for topic_idx, topic in enumerate(model.components_):\n",
    "        print(\"Topic #%d:\" % topic_idx)\n",
    "        print(\" \".join([feature_names[i]\n",
    "                        for i in topic.argsort()[:-n_top_words - 1:-1]]))\n",
    "        print()\n",
    "    print()"
   ]
  },
  {
   "cell_type": "code",
   "execution_count": 446,
   "metadata": {
    "collapsed": true
   },
   "outputs": [],
   "source": [
    "counter = P.steps[0][1]"
   ]
  },
  {
   "cell_type": "code",
   "execution_count": 447,
   "metadata": {
    "collapsed": true
   },
   "outputs": [],
   "source": [
    "# TODO: normalize topic word distributions by global frequencies"
   ]
  },
  {
   "cell_type": "code",
   "execution_count": 448,
   "metadata": {
    "collapsed": false
   },
   "outputs": [
    {
     "data": {
      "application/javascript": [
       "/* Put everything inside the global mpl namespace */\n",
       "window.mpl = {};\n",
       "\n",
       "mpl.get_websocket_type = function() {\n",
       "    if (typeof(WebSocket) !== 'undefined') {\n",
       "        return WebSocket;\n",
       "    } else if (typeof(MozWebSocket) !== 'undefined') {\n",
       "        return MozWebSocket;\n",
       "    } else {\n",
       "        alert('Your browser does not have WebSocket support.' +\n",
       "              'Please try Chrome, Safari or Firefox ≥ 6. ' +\n",
       "              'Firefox 4 and 5 are also supported but you ' +\n",
       "              'have to enable WebSockets in about:config.');\n",
       "    };\n",
       "}\n",
       "\n",
       "mpl.figure = function(figure_id, websocket, ondownload, parent_element) {\n",
       "    this.id = figure_id;\n",
       "\n",
       "    this.ws = websocket;\n",
       "\n",
       "    this.supports_binary = (this.ws.binaryType != undefined);\n",
       "\n",
       "    if (!this.supports_binary) {\n",
       "        var warnings = document.getElementById(\"mpl-warnings\");\n",
       "        if (warnings) {\n",
       "            warnings.style.display = 'block';\n",
       "            warnings.textContent = (\n",
       "                \"This browser does not support binary websocket messages. \" +\n",
       "                    \"Performance may be slow.\");\n",
       "        }\n",
       "    }\n",
       "\n",
       "    this.imageObj = new Image();\n",
       "\n",
       "    this.context = undefined;\n",
       "    this.message = undefined;\n",
       "    this.canvas = undefined;\n",
       "    this.rubberband_canvas = undefined;\n",
       "    this.rubberband_context = undefined;\n",
       "    this.format_dropdown = undefined;\n",
       "\n",
       "    this.image_mode = 'full';\n",
       "\n",
       "    this.root = $('<div/>');\n",
       "    this._root_extra_style(this.root)\n",
       "    this.root.attr('style', 'display: inline-block');\n",
       "\n",
       "    $(parent_element).append(this.root);\n",
       "\n",
       "    this._init_header(this);\n",
       "    this._init_canvas(this);\n",
       "    this._init_toolbar(this);\n",
       "\n",
       "    var fig = this;\n",
       "\n",
       "    this.waiting = false;\n",
       "\n",
       "    this.ws.onopen =  function () {\n",
       "            fig.send_message(\"supports_binary\", {value: fig.supports_binary});\n",
       "            fig.send_message(\"send_image_mode\", {});\n",
       "            fig.send_message(\"refresh\", {});\n",
       "        }\n",
       "\n",
       "    this.imageObj.onload = function() {\n",
       "            if (fig.image_mode == 'full') {\n",
       "                // Full images could contain transparency (where diff images\n",
       "                // almost always do), so we need to clear the canvas so that\n",
       "                // there is no ghosting.\n",
       "                fig.context.clearRect(0, 0, fig.canvas.width, fig.canvas.height);\n",
       "            }\n",
       "            fig.context.drawImage(fig.imageObj, 0, 0);\n",
       "        };\n",
       "\n",
       "    this.imageObj.onunload = function() {\n",
       "        this.ws.close();\n",
       "    }\n",
       "\n",
       "    this.ws.onmessage = this._make_on_message_function(this);\n",
       "\n",
       "    this.ondownload = ondownload;\n",
       "}\n",
       "\n",
       "mpl.figure.prototype._init_header = function() {\n",
       "    var titlebar = $(\n",
       "        '<div class=\"ui-dialog-titlebar ui-widget-header ui-corner-all ' +\n",
       "        'ui-helper-clearfix\"/>');\n",
       "    var titletext = $(\n",
       "        '<div class=\"ui-dialog-title\" style=\"width: 100%; ' +\n",
       "        'text-align: center; padding: 3px;\"/>');\n",
       "    titlebar.append(titletext)\n",
       "    this.root.append(titlebar);\n",
       "    this.header = titletext[0];\n",
       "}\n",
       "\n",
       "\n",
       "\n",
       "mpl.figure.prototype._canvas_extra_style = function(canvas_div) {\n",
       "\n",
       "}\n",
       "\n",
       "\n",
       "mpl.figure.prototype._root_extra_style = function(canvas_div) {\n",
       "\n",
       "}\n",
       "\n",
       "mpl.figure.prototype._init_canvas = function() {\n",
       "    var fig = this;\n",
       "\n",
       "    var canvas_div = $('<div/>');\n",
       "\n",
       "    canvas_div.attr('style', 'position: relative; clear: both; outline: 0');\n",
       "\n",
       "    function canvas_keyboard_event(event) {\n",
       "        return fig.key_event(event, event['data']);\n",
       "    }\n",
       "\n",
       "    canvas_div.keydown('key_press', canvas_keyboard_event);\n",
       "    canvas_div.keyup('key_release', canvas_keyboard_event);\n",
       "    this.canvas_div = canvas_div\n",
       "    this._canvas_extra_style(canvas_div)\n",
       "    this.root.append(canvas_div);\n",
       "\n",
       "    var canvas = $('<canvas/>');\n",
       "    canvas.addClass('mpl-canvas');\n",
       "    canvas.attr('style', \"left: 0; top: 0; z-index: 0; outline: 0\")\n",
       "\n",
       "    this.canvas = canvas[0];\n",
       "    this.context = canvas[0].getContext(\"2d\");\n",
       "\n",
       "    var rubberband = $('<canvas/>');\n",
       "    rubberband.attr('style', \"position: absolute; left: 0; top: 0; z-index: 1;\")\n",
       "\n",
       "    var pass_mouse_events = true;\n",
       "\n",
       "    canvas_div.resizable({\n",
       "        start: function(event, ui) {\n",
       "            pass_mouse_events = false;\n",
       "        },\n",
       "        resize: function(event, ui) {\n",
       "            fig.request_resize(ui.size.width, ui.size.height);\n",
       "        },\n",
       "        stop: function(event, ui) {\n",
       "            pass_mouse_events = true;\n",
       "            fig.request_resize(ui.size.width, ui.size.height);\n",
       "        },\n",
       "    });\n",
       "\n",
       "    function mouse_event_fn(event) {\n",
       "        if (pass_mouse_events)\n",
       "            return fig.mouse_event(event, event['data']);\n",
       "    }\n",
       "\n",
       "    rubberband.mousedown('button_press', mouse_event_fn);\n",
       "    rubberband.mouseup('button_release', mouse_event_fn);\n",
       "    // Throttle sequential mouse events to 1 every 20ms.\n",
       "    rubberband.mousemove('motion_notify', mouse_event_fn);\n",
       "\n",
       "    rubberband.mouseenter('figure_enter', mouse_event_fn);\n",
       "    rubberband.mouseleave('figure_leave', mouse_event_fn);\n",
       "\n",
       "    canvas_div.on(\"wheel\", function (event) {\n",
       "        event = event.originalEvent;\n",
       "        event['data'] = 'scroll'\n",
       "        if (event.deltaY < 0) {\n",
       "            event.step = 1;\n",
       "        } else {\n",
       "            event.step = -1;\n",
       "        }\n",
       "        mouse_event_fn(event);\n",
       "    });\n",
       "\n",
       "    canvas_div.append(canvas);\n",
       "    canvas_div.append(rubberband);\n",
       "\n",
       "    this.rubberband = rubberband;\n",
       "    this.rubberband_canvas = rubberband[0];\n",
       "    this.rubberband_context = rubberband[0].getContext(\"2d\");\n",
       "    this.rubberband_context.strokeStyle = \"#000000\";\n",
       "\n",
       "    this._resize_canvas = function(width, height) {\n",
       "        // Keep the size of the canvas, canvas container, and rubber band\n",
       "        // canvas in synch.\n",
       "        canvas_div.css('width', width)\n",
       "        canvas_div.css('height', height)\n",
       "\n",
       "        canvas.attr('width', width);\n",
       "        canvas.attr('height', height);\n",
       "\n",
       "        rubberband.attr('width', width);\n",
       "        rubberband.attr('height', height);\n",
       "    }\n",
       "\n",
       "    // Set the figure to an initial 600x600px, this will subsequently be updated\n",
       "    // upon first draw.\n",
       "    this._resize_canvas(600, 600);\n",
       "\n",
       "    // Disable right mouse context menu.\n",
       "    $(this.rubberband_canvas).bind(\"contextmenu\",function(e){\n",
       "        return false;\n",
       "    });\n",
       "\n",
       "    function set_focus () {\n",
       "        canvas.focus();\n",
       "        canvas_div.focus();\n",
       "    }\n",
       "\n",
       "    window.setTimeout(set_focus, 100);\n",
       "}\n",
       "\n",
       "mpl.figure.prototype._init_toolbar = function() {\n",
       "    var fig = this;\n",
       "\n",
       "    var nav_element = $('<div/>')\n",
       "    nav_element.attr('style', 'width: 100%');\n",
       "    this.root.append(nav_element);\n",
       "\n",
       "    // Define a callback function for later on.\n",
       "    function toolbar_event(event) {\n",
       "        return fig.toolbar_button_onclick(event['data']);\n",
       "    }\n",
       "    function toolbar_mouse_event(event) {\n",
       "        return fig.toolbar_button_onmouseover(event['data']);\n",
       "    }\n",
       "\n",
       "    for(var toolbar_ind in mpl.toolbar_items) {\n",
       "        var name = mpl.toolbar_items[toolbar_ind][0];\n",
       "        var tooltip = mpl.toolbar_items[toolbar_ind][1];\n",
       "        var image = mpl.toolbar_items[toolbar_ind][2];\n",
       "        var method_name = mpl.toolbar_items[toolbar_ind][3];\n",
       "\n",
       "        if (!name) {\n",
       "            // put a spacer in here.\n",
       "            continue;\n",
       "        }\n",
       "        var button = $('<button/>');\n",
       "        button.addClass('ui-button ui-widget ui-state-default ui-corner-all ' +\n",
       "                        'ui-button-icon-only');\n",
       "        button.attr('role', 'button');\n",
       "        button.attr('aria-disabled', 'false');\n",
       "        button.click(method_name, toolbar_event);\n",
       "        button.mouseover(tooltip, toolbar_mouse_event);\n",
       "\n",
       "        var icon_img = $('<span/>');\n",
       "        icon_img.addClass('ui-button-icon-primary ui-icon');\n",
       "        icon_img.addClass(image);\n",
       "        icon_img.addClass('ui-corner-all');\n",
       "\n",
       "        var tooltip_span = $('<span/>');\n",
       "        tooltip_span.addClass('ui-button-text');\n",
       "        tooltip_span.html(tooltip);\n",
       "\n",
       "        button.append(icon_img);\n",
       "        button.append(tooltip_span);\n",
       "\n",
       "        nav_element.append(button);\n",
       "    }\n",
       "\n",
       "    var fmt_picker_span = $('<span/>');\n",
       "\n",
       "    var fmt_picker = $('<select/>');\n",
       "    fmt_picker.addClass('mpl-toolbar-option ui-widget ui-widget-content');\n",
       "    fmt_picker_span.append(fmt_picker);\n",
       "    nav_element.append(fmt_picker_span);\n",
       "    this.format_dropdown = fmt_picker[0];\n",
       "\n",
       "    for (var ind in mpl.extensions) {\n",
       "        var fmt = mpl.extensions[ind];\n",
       "        var option = $(\n",
       "            '<option/>', {selected: fmt === mpl.default_extension}).html(fmt);\n",
       "        fmt_picker.append(option)\n",
       "    }\n",
       "\n",
       "    // Add hover states to the ui-buttons\n",
       "    $( \".ui-button\" ).hover(\n",
       "        function() { $(this).addClass(\"ui-state-hover\");},\n",
       "        function() { $(this).removeClass(\"ui-state-hover\");}\n",
       "    );\n",
       "\n",
       "    var status_bar = $('<span class=\"mpl-message\"/>');\n",
       "    nav_element.append(status_bar);\n",
       "    this.message = status_bar[0];\n",
       "}\n",
       "\n",
       "mpl.figure.prototype.request_resize = function(x_pixels, y_pixels) {\n",
       "    // Request matplotlib to resize the figure. Matplotlib will then trigger a resize in the client,\n",
       "    // which will in turn request a refresh of the image.\n",
       "    this.send_message('resize', {'width': x_pixels, 'height': y_pixels});\n",
       "}\n",
       "\n",
       "mpl.figure.prototype.send_message = function(type, properties) {\n",
       "    properties['type'] = type;\n",
       "    properties['figure_id'] = this.id;\n",
       "    this.ws.send(JSON.stringify(properties));\n",
       "}\n",
       "\n",
       "mpl.figure.prototype.send_draw_message = function() {\n",
       "    if (!this.waiting) {\n",
       "        this.waiting = true;\n",
       "        this.ws.send(JSON.stringify({type: \"draw\", figure_id: this.id}));\n",
       "    }\n",
       "}\n",
       "\n",
       "\n",
       "mpl.figure.prototype.handle_save = function(fig, msg) {\n",
       "    var format_dropdown = fig.format_dropdown;\n",
       "    var format = format_dropdown.options[format_dropdown.selectedIndex].value;\n",
       "    fig.ondownload(fig, format);\n",
       "}\n",
       "\n",
       "\n",
       "mpl.figure.prototype.handle_resize = function(fig, msg) {\n",
       "    var size = msg['size'];\n",
       "    if (size[0] != fig.canvas.width || size[1] != fig.canvas.height) {\n",
       "        fig._resize_canvas(size[0], size[1]);\n",
       "        fig.send_message(\"refresh\", {});\n",
       "    };\n",
       "}\n",
       "\n",
       "mpl.figure.prototype.handle_rubberband = function(fig, msg) {\n",
       "    var x0 = msg['x0'];\n",
       "    var y0 = fig.canvas.height - msg['y0'];\n",
       "    var x1 = msg['x1'];\n",
       "    var y1 = fig.canvas.height - msg['y1'];\n",
       "    x0 = Math.floor(x0) + 0.5;\n",
       "    y0 = Math.floor(y0) + 0.5;\n",
       "    x1 = Math.floor(x1) + 0.5;\n",
       "    y1 = Math.floor(y1) + 0.5;\n",
       "    var min_x = Math.min(x0, x1);\n",
       "    var min_y = Math.min(y0, y1);\n",
       "    var width = Math.abs(x1 - x0);\n",
       "    var height = Math.abs(y1 - y0);\n",
       "\n",
       "    fig.rubberband_context.clearRect(\n",
       "        0, 0, fig.canvas.width, fig.canvas.height);\n",
       "\n",
       "    fig.rubberband_context.strokeRect(min_x, min_y, width, height);\n",
       "}\n",
       "\n",
       "mpl.figure.prototype.handle_figure_label = function(fig, msg) {\n",
       "    // Updates the figure title.\n",
       "    fig.header.textContent = msg['label'];\n",
       "}\n",
       "\n",
       "mpl.figure.prototype.handle_cursor = function(fig, msg) {\n",
       "    var cursor = msg['cursor'];\n",
       "    switch(cursor)\n",
       "    {\n",
       "    case 0:\n",
       "        cursor = 'pointer';\n",
       "        break;\n",
       "    case 1:\n",
       "        cursor = 'default';\n",
       "        break;\n",
       "    case 2:\n",
       "        cursor = 'crosshair';\n",
       "        break;\n",
       "    case 3:\n",
       "        cursor = 'move';\n",
       "        break;\n",
       "    }\n",
       "    fig.rubberband_canvas.style.cursor = cursor;\n",
       "}\n",
       "\n",
       "mpl.figure.prototype.handle_message = function(fig, msg) {\n",
       "    fig.message.textContent = msg['message'];\n",
       "}\n",
       "\n",
       "mpl.figure.prototype.handle_draw = function(fig, msg) {\n",
       "    // Request the server to send over a new figure.\n",
       "    fig.send_draw_message();\n",
       "}\n",
       "\n",
       "mpl.figure.prototype.handle_image_mode = function(fig, msg) {\n",
       "    fig.image_mode = msg['mode'];\n",
       "}\n",
       "\n",
       "mpl.figure.prototype.updated_canvas_event = function() {\n",
       "    // Called whenever the canvas gets updated.\n",
       "    this.send_message(\"ack\", {});\n",
       "}\n",
       "\n",
       "// A function to construct a web socket function for onmessage handling.\n",
       "// Called in the figure constructor.\n",
       "mpl.figure.prototype._make_on_message_function = function(fig) {\n",
       "    return function socket_on_message(evt) {\n",
       "        if (evt.data instanceof Blob) {\n",
       "            /* FIXME: We get \"Resource interpreted as Image but\n",
       "             * transferred with MIME type text/plain:\" errors on\n",
       "             * Chrome.  But how to set the MIME type?  It doesn't seem\n",
       "             * to be part of the websocket stream */\n",
       "            evt.data.type = \"image/png\";\n",
       "\n",
       "            /* Free the memory for the previous frames */\n",
       "            if (fig.imageObj.src) {\n",
       "                (window.URL || window.webkitURL).revokeObjectURL(\n",
       "                    fig.imageObj.src);\n",
       "            }\n",
       "\n",
       "            fig.imageObj.src = (window.URL || window.webkitURL).createObjectURL(\n",
       "                evt.data);\n",
       "            fig.updated_canvas_event();\n",
       "            fig.waiting = false;\n",
       "            return;\n",
       "        }\n",
       "        else if (typeof evt.data === 'string' && evt.data.slice(0, 21) == \"data:image/png;base64\") {\n",
       "            fig.imageObj.src = evt.data;\n",
       "            fig.updated_canvas_event();\n",
       "            fig.waiting = false;\n",
       "            return;\n",
       "        }\n",
       "\n",
       "        var msg = JSON.parse(evt.data);\n",
       "        var msg_type = msg['type'];\n",
       "\n",
       "        // Call the  \"handle_{type}\" callback, which takes\n",
       "        // the figure and JSON message as its only arguments.\n",
       "        try {\n",
       "            var callback = fig[\"handle_\" + msg_type];\n",
       "        } catch (e) {\n",
       "            console.log(\"No handler for the '\" + msg_type + \"' message type: \", msg);\n",
       "            return;\n",
       "        }\n",
       "\n",
       "        if (callback) {\n",
       "            try {\n",
       "                // console.log(\"Handling '\" + msg_type + \"' message: \", msg);\n",
       "                callback(fig, msg);\n",
       "            } catch (e) {\n",
       "                console.log(\"Exception inside the 'handler_\" + msg_type + \"' callback:\", e, e.stack, msg);\n",
       "            }\n",
       "        }\n",
       "    };\n",
       "}\n",
       "\n",
       "// from http://stackoverflow.com/questions/1114465/getting-mouse-location-in-canvas\n",
       "mpl.findpos = function(e) {\n",
       "    //this section is from http://www.quirksmode.org/js/events_properties.html\n",
       "    var targ;\n",
       "    if (!e)\n",
       "        e = window.event;\n",
       "    if (e.target)\n",
       "        targ = e.target;\n",
       "    else if (e.srcElement)\n",
       "        targ = e.srcElement;\n",
       "    if (targ.nodeType == 3) // defeat Safari bug\n",
       "        targ = targ.parentNode;\n",
       "\n",
       "    // jQuery normalizes the pageX and pageY\n",
       "    // pageX,Y are the mouse positions relative to the document\n",
       "    // offset() returns the position of the element relative to the document\n",
       "    var x = e.pageX - $(targ).offset().left;\n",
       "    var y = e.pageY - $(targ).offset().top;\n",
       "\n",
       "    return {\"x\": x, \"y\": y};\n",
       "};\n",
       "\n",
       "/*\n",
       " * return a copy of an object with only non-object keys\n",
       " * we need this to avoid circular references\n",
       " * http://stackoverflow.com/a/24161582/3208463\n",
       " */\n",
       "function simpleKeys (original) {\n",
       "  return Object.keys(original).reduce(function (obj, key) {\n",
       "    if (typeof original[key] !== 'object')\n",
       "        obj[key] = original[key]\n",
       "    return obj;\n",
       "  }, {});\n",
       "}\n",
       "\n",
       "mpl.figure.prototype.mouse_event = function(event, name) {\n",
       "    var canvas_pos = mpl.findpos(event)\n",
       "\n",
       "    if (name === 'button_press')\n",
       "    {\n",
       "        this.canvas.focus();\n",
       "        this.canvas_div.focus();\n",
       "    }\n",
       "\n",
       "    var x = canvas_pos.x;\n",
       "    var y = canvas_pos.y;\n",
       "\n",
       "    this.send_message(name, {x: x, y: y, button: event.button,\n",
       "                             step: event.step,\n",
       "                             guiEvent: simpleKeys(event)});\n",
       "\n",
       "    /* This prevents the web browser from automatically changing to\n",
       "     * the text insertion cursor when the button is pressed.  We want\n",
       "     * to control all of the cursor setting manually through the\n",
       "     * 'cursor' event from matplotlib */\n",
       "    event.preventDefault();\n",
       "    return false;\n",
       "}\n",
       "\n",
       "mpl.figure.prototype._key_event_extra = function(event, name) {\n",
       "    // Handle any extra behaviour associated with a key event\n",
       "}\n",
       "\n",
       "mpl.figure.prototype.key_event = function(event, name) {\n",
       "\n",
       "    // Prevent repeat events\n",
       "    if (name == 'key_press')\n",
       "    {\n",
       "        if (event.which === this._key)\n",
       "            return;\n",
       "        else\n",
       "            this._key = event.which;\n",
       "    }\n",
       "    if (name == 'key_release')\n",
       "        this._key = null;\n",
       "\n",
       "    var value = '';\n",
       "    if (event.ctrlKey && event.which != 17)\n",
       "        value += \"ctrl+\";\n",
       "    if (event.altKey && event.which != 18)\n",
       "        value += \"alt+\";\n",
       "    if (event.shiftKey && event.which != 16)\n",
       "        value += \"shift+\";\n",
       "\n",
       "    value += 'k';\n",
       "    value += event.which.toString();\n",
       "\n",
       "    this._key_event_extra(event, name);\n",
       "\n",
       "    this.send_message(name, {key: value,\n",
       "                             guiEvent: simpleKeys(event)});\n",
       "    return false;\n",
       "}\n",
       "\n",
       "mpl.figure.prototype.toolbar_button_onclick = function(name) {\n",
       "    if (name == 'download') {\n",
       "        this.handle_save(this, null);\n",
       "    } else {\n",
       "        this.send_message(\"toolbar_button\", {name: name});\n",
       "    }\n",
       "};\n",
       "\n",
       "mpl.figure.prototype.toolbar_button_onmouseover = function(tooltip) {\n",
       "    this.message.textContent = tooltip;\n",
       "};\n",
       "mpl.toolbar_items = [[\"Home\", \"Reset original view\", \"fa fa-home icon-home\", \"home\"], [\"Back\", \"Back to  previous view\", \"fa fa-arrow-left icon-arrow-left\", \"back\"], [\"Forward\", \"Forward to next view\", \"fa fa-arrow-right icon-arrow-right\", \"forward\"], [\"\", \"\", \"\", \"\"], [\"Pan\", \"Pan axes with left mouse, zoom with right\", \"fa fa-arrows icon-move\", \"pan\"], [\"Zoom\", \"Zoom to rectangle\", \"fa fa-square-o icon-check-empty\", \"zoom\"], [\"\", \"\", \"\", \"\"], [\"Download\", \"Download plot\", \"fa fa-floppy-o icon-save\", \"download\"]];\n",
       "\n",
       "mpl.extensions = [\"eps\", \"jpeg\", \"pdf\", \"png\", \"ps\", \"raw\", \"svg\", \"tif\"];\n",
       "\n",
       "mpl.default_extension = \"png\";var comm_websocket_adapter = function(comm) {\n",
       "    // Create a \"websocket\"-like object which calls the given IPython comm\n",
       "    // object with the appropriate methods. Currently this is a non binary\n",
       "    // socket, so there is still some room for performance tuning.\n",
       "    var ws = {};\n",
       "\n",
       "    ws.close = function() {\n",
       "        comm.close()\n",
       "    };\n",
       "    ws.send = function(m) {\n",
       "        //console.log('sending', m);\n",
       "        comm.send(m);\n",
       "    };\n",
       "    // Register the callback with on_msg.\n",
       "    comm.on_msg(function(msg) {\n",
       "        //console.log('receiving', msg['content']['data'], msg);\n",
       "        // Pass the mpl event to the overriden (by mpl) onmessage function.\n",
       "        ws.onmessage(msg['content']['data'])\n",
       "    });\n",
       "    return ws;\n",
       "}\n",
       "\n",
       "mpl.mpl_figure_comm = function(comm, msg) {\n",
       "    // This is the function which gets called when the mpl process\n",
       "    // starts-up an IPython Comm through the \"matplotlib\" channel.\n",
       "\n",
       "    var id = msg.content.data.id;\n",
       "    // Get hold of the div created by the display call when the Comm\n",
       "    // socket was opened in Python.\n",
       "    var element = $(\"#\" + id);\n",
       "    var ws_proxy = comm_websocket_adapter(comm)\n",
       "\n",
       "    function ondownload(figure, format) {\n",
       "        window.open(figure.imageObj.src);\n",
       "    }\n",
       "\n",
       "    var fig = new mpl.figure(id, ws_proxy,\n",
       "                           ondownload,\n",
       "                           element.get(0));\n",
       "\n",
       "    // Call onopen now - mpl needs it, as it is assuming we've passed it a real\n",
       "    // web socket which is closed, not our websocket->open comm proxy.\n",
       "    ws_proxy.onopen();\n",
       "\n",
       "    fig.parent_element = element.get(0);\n",
       "    fig.cell_info = mpl.find_output_cell(\"<div id='\" + id + \"'></div>\");\n",
       "    if (!fig.cell_info) {\n",
       "        console.error(\"Failed to find cell for figure\", id, fig);\n",
       "        return;\n",
       "    }\n",
       "\n",
       "    var output_index = fig.cell_info[2]\n",
       "    var cell = fig.cell_info[0];\n",
       "\n",
       "};\n",
       "\n",
       "mpl.figure.prototype.handle_close = function(fig, msg) {\n",
       "    fig.root.unbind('remove')\n",
       "\n",
       "    // Update the output cell to use the data from the current canvas.\n",
       "    fig.push_to_output();\n",
       "    var dataURL = fig.canvas.toDataURL();\n",
       "    // Re-enable the keyboard manager in IPython - without this line, in FF,\n",
       "    // the notebook keyboard shortcuts fail.\n",
       "    IPython.keyboard_manager.enable()\n",
       "    $(fig.parent_element).html('<img src=\"' + dataURL + '\">');\n",
       "    fig.close_ws(fig, msg);\n",
       "}\n",
       "\n",
       "mpl.figure.prototype.close_ws = function(fig, msg){\n",
       "    fig.send_message('closing', msg);\n",
       "    // fig.ws.close()\n",
       "}\n",
       "\n",
       "mpl.figure.prototype.push_to_output = function(remove_interactive) {\n",
       "    // Turn the data on the canvas into data in the output cell.\n",
       "    var dataURL = this.canvas.toDataURL();\n",
       "    this.cell_info[1]['text/html'] = '<img src=\"' + dataURL + '\">';\n",
       "}\n",
       "\n",
       "mpl.figure.prototype.updated_canvas_event = function() {\n",
       "    // Tell IPython that the notebook contents must change.\n",
       "    IPython.notebook.set_dirty(true);\n",
       "    this.send_message(\"ack\", {});\n",
       "    var fig = this;\n",
       "    // Wait a second, then push the new image to the DOM so\n",
       "    // that it is saved nicely (might be nice to debounce this).\n",
       "    setTimeout(function () { fig.push_to_output() }, 1000);\n",
       "}\n",
       "\n",
       "mpl.figure.prototype._init_toolbar = function() {\n",
       "    var fig = this;\n",
       "\n",
       "    var nav_element = $('<div/>')\n",
       "    nav_element.attr('style', 'width: 100%');\n",
       "    this.root.append(nav_element);\n",
       "\n",
       "    // Define a callback function for later on.\n",
       "    function toolbar_event(event) {\n",
       "        return fig.toolbar_button_onclick(event['data']);\n",
       "    }\n",
       "    function toolbar_mouse_event(event) {\n",
       "        return fig.toolbar_button_onmouseover(event['data']);\n",
       "    }\n",
       "\n",
       "    for(var toolbar_ind in mpl.toolbar_items){\n",
       "        var name = mpl.toolbar_items[toolbar_ind][0];\n",
       "        var tooltip = mpl.toolbar_items[toolbar_ind][1];\n",
       "        var image = mpl.toolbar_items[toolbar_ind][2];\n",
       "        var method_name = mpl.toolbar_items[toolbar_ind][3];\n",
       "\n",
       "        if (!name) { continue; };\n",
       "\n",
       "        var button = $('<button class=\"btn btn-default\" href=\"#\" title=\"' + name + '\"><i class=\"fa ' + image + ' fa-lg\"></i></button>');\n",
       "        button.click(method_name, toolbar_event);\n",
       "        button.mouseover(tooltip, toolbar_mouse_event);\n",
       "        nav_element.append(button);\n",
       "    }\n",
       "\n",
       "    // Add the status bar.\n",
       "    var status_bar = $('<span class=\"mpl-message\" style=\"text-align:right; float: right;\"/>');\n",
       "    nav_element.append(status_bar);\n",
       "    this.message = status_bar[0];\n",
       "\n",
       "    // Add the close button to the window.\n",
       "    var buttongrp = $('<div class=\"btn-group inline pull-right\"></div>');\n",
       "    var button = $('<button class=\"btn btn-mini btn-primary\" href=\"#\" title=\"Stop Interaction\"><i class=\"fa fa-power-off icon-remove icon-large\"></i></button>');\n",
       "    button.click(function (evt) { fig.handle_close(fig, {}); } );\n",
       "    button.mouseover('Stop Interaction', toolbar_mouse_event);\n",
       "    buttongrp.append(button);\n",
       "    var titlebar = this.root.find($('.ui-dialog-titlebar'));\n",
       "    titlebar.prepend(buttongrp);\n",
       "}\n",
       "\n",
       "mpl.figure.prototype._root_extra_style = function(el){\n",
       "    var fig = this\n",
       "    el.on(\"remove\", function(){\n",
       "\tfig.close_ws(fig, {});\n",
       "    });\n",
       "}\n",
       "\n",
       "mpl.figure.prototype._canvas_extra_style = function(el){\n",
       "    // this is important to make the div 'focusable\n",
       "    el.attr('tabindex', 0)\n",
       "    // reach out to IPython and tell the keyboard manager to turn it's self\n",
       "    // off when our div gets focus\n",
       "\n",
       "    // location in version 3\n",
       "    if (IPython.notebook.keyboard_manager) {\n",
       "        IPython.notebook.keyboard_manager.register_events(el);\n",
       "    }\n",
       "    else {\n",
       "        // location in version 2\n",
       "        IPython.keyboard_manager.register_events(el);\n",
       "    }\n",
       "\n",
       "}\n",
       "\n",
       "mpl.figure.prototype._key_event_extra = function(event, name) {\n",
       "    var manager = IPython.notebook.keyboard_manager;\n",
       "    if (!manager)\n",
       "        manager = IPython.keyboard_manager;\n",
       "\n",
       "    // Check for shift+enter\n",
       "    if (event.shiftKey && event.which == 13) {\n",
       "        this.canvas_div.blur();\n",
       "        event.shiftKey = false;\n",
       "        // Send a \"J\" for go to next cell\n",
       "        event.which = 74;\n",
       "        event.keyCode = 74;\n",
       "        manager.command_mode();\n",
       "        manager.handle_keydown(event);\n",
       "    }\n",
       "}\n",
       "\n",
       "mpl.figure.prototype.handle_save = function(fig, msg) {\n",
       "    fig.ondownload(fig, null);\n",
       "}\n",
       "\n",
       "\n",
       "mpl.find_output_cell = function(html_output) {\n",
       "    // Return the cell and output element which can be found *uniquely* in the notebook.\n",
       "    // Note - this is a bit hacky, but it is done because the \"notebook_saving.Notebook\"\n",
       "    // IPython event is triggered only after the cells have been serialised, which for\n",
       "    // our purposes (turning an active figure into a static one), is too late.\n",
       "    var cells = IPython.notebook.get_cells();\n",
       "    var ncells = cells.length;\n",
       "    for (var i=0; i<ncells; i++) {\n",
       "        var cell = cells[i];\n",
       "        if (cell.cell_type === 'code'){\n",
       "            for (var j=0; j<cell.output_area.outputs.length; j++) {\n",
       "                var data = cell.output_area.outputs[j];\n",
       "                if (data.data) {\n",
       "                    // IPython >= 3 moved mimebundle to data attribute of output\n",
       "                    data = data.data;\n",
       "                }\n",
       "                if (data['text/html'] == html_output) {\n",
       "                    return [cell, data, j];\n",
       "                }\n",
       "            }\n",
       "        }\n",
       "    }\n",
       "}\n",
       "\n",
       "// Register the function which deals with the matplotlib target/channel.\n",
       "// The kernel may be null if the page has been refreshed.\n",
       "if (IPython.notebook.kernel != null) {\n",
       "    IPython.notebook.kernel.comm_manager.register_target('matplotlib', mpl.mpl_figure_comm);\n",
       "}\n"
      ],
      "text/plain": [
       "<IPython.core.display.Javascript object>"
      ]
     },
     "metadata": {},
     "output_type": "display_data"
    },
    {
     "data": {
      "text/html": [
       "<img src=\"data:image/png;base64,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\">"
      ],
      "text/plain": [
       "<IPython.core.display.HTML object>"
      ]
     },
     "metadata": {},
     "output_type": "display_data"
    },
    {
     "data": {
      "text/plain": [
       "<Container object of 12 artists>"
      ]
     },
     "execution_count": 448,
     "metadata": {},
     "output_type": "execute_result"
    }
   ],
   "source": [
    "plt.figure()\n",
    "plt.bar(np.arange(y.shape[1]), np.mean(y, axis=0))"
   ]
  },
  {
   "cell_type": "code",
   "execution_count": 449,
   "metadata": {
    "collapsed": false,
    "scrolled": false
   },
   "outputs": [
    {
     "name": "stdout",
     "output_type": "stream",
     "text": [
      "\n",
      "Topics in LDA model:\n",
      "Topic #0:\n",
      "book life thing space love point kind word little poem moment year future end mind way conversation question interesting dog\n",
      "\n",
      "Topic #1:\n",
      "right government law political fact power state reason people local issue good civil great president federal citizen role social deal\n",
      "\n",
      "Topic #2:\n",
      "house father room mother place little door moment time apartment music car home leg bed night hand glass wall table\n",
      "\n",
      "Topic #3:\n",
      "people lot year neighborhood thing time community street friend city town place different store sense experience group change family good\n",
      "\n",
      "Topic #4:\n",
      "man people white problem building case negro community thing lot court block area class issue list thousand view city world\n",
      "\n",
      "Topic #5:\n",
      "language word world people thing certain play different question way english accent country place video baby speaker culture dream irish\n",
      "\n",
      "Topic #6:\n",
      "school kid child parent mom high thing time job student college girl memory little game good young day brother everybody\n",
      "\n",
      "Topic #7:\n",
      "library people head water man leader world air lot history body eye death article book daughter time way fact account\n",
      "\n",
      "Topic #8:\n",
      "dad family time money guy wife day woman song boy way big phone mother church hour thing friend people dollar\n",
      "\n",
      "Topic #9:\n",
      "art film story poetry great new form time book artist poet sound kind interview identity guest war world light life\n",
      "\n",
      "Topic #10:\n",
      "thing woman people kind way life country good human question movement right lot somebody truth sense feeling bad world piece\n",
      "\n",
      "Topic #11:\n",
      "people thing time joke work lot idea audience stuff way line movie good year great guy week really long job\n",
      "\n",
      "\n"
     ]
    }
   ],
   "source": [
    "print(\"\\nTopics in LDA model:\")\n",
    "n_top_words = 20\n",
    "tf_feature_names = P.steps[0][1].get_feature_names()\n",
    "print_top_words(P.steps[1][1], tf_feature_names, n_top_words)"
   ]
  },
  {
   "cell_type": "code",
   "execution_count": 452,
   "metadata": {
    "collapsed": false
   },
   "outputs": [
    {
     "data": {
      "text/plain": [
       "array([[ 1.08332986,  0.08333333,  0.08333333,  0.08333333,  0.08333333,\n",
       "         0.08333333,  0.08333333,  0.08333333,  0.08333455,  0.08333559,\n",
       "         0.08333333,  0.08333333]])"
      ]
     },
     "execution_count": 452,
     "metadata": {},
     "output_type": "execute_result"
    }
   ],
   "source": [
    "P.transform(['the quick brown fox jumped over the lazy dog'])"
   ]
  },
  {
   "cell_type": "code",
   "execution_count": 453,
   "metadata": {
    "collapsed": false
   },
   "outputs": [
    {
     "data": {
      "text/plain": [
       "array([[ 0.08333349,  1.08332928,  0.08333333,  0.08333333,  0.08333333,\n",
       "         0.08333333,  0.08333333,  0.08333333,  0.08333333,  0.08333333,\n",
       "         0.08333333,  0.08333722]])"
      ]
     },
     "execution_count": 453,
     "metadata": {},
     "output_type": "execute_result"
    }
   ],
   "source": [
    "P.transform(['the president voted to leave the united kingdom'])"
   ]
  },
  {
   "cell_type": "code",
   "execution_count": 454,
   "metadata": {
    "collapsed": false
   },
   "outputs": [
    {
     "data": {
      "text/plain": [
       "array([[ 0.08333333,  0.08333333,  1.08332852,  0.08333333,  0.08333333,\n",
       "         0.08333333,  0.08333333,  0.08333333,  0.08333815,  0.08333333,\n",
       "         0.08333333,  0.08333333]])"
      ]
     },
     "execution_count": 454,
     "metadata": {},
     "output_type": "execute_result"
    }
   ],
   "source": [
    "P.transform(['david bowie rock opera symphony brian eno'])"
   ]
  },
  {
   "cell_type": "code",
   "execution_count": 455,
   "metadata": {
    "collapsed": false
   },
   "outputs": [
    {
     "data": {
      "text/plain": [
       "array([[ 0.08333403,  0.08333406,  0.08333481,  0.08333521,  0.0833334 ,\n",
       "         0.08333333,  0.08333487,  0.08333452,  0.08333531,  3.08331994,\n",
       "         0.08333386,  0.08333666]])"
      ]
     },
     "execution_count": 455,
     "metadata": {},
     "output_type": "execute_result"
    }
   ],
   "source": [
    "P.transform(['film criticism is a waste of time'])"
   ]
  },
  {
   "cell_type": "code",
   "execution_count": 456,
   "metadata": {
    "collapsed": false
   },
   "outputs": [
    {
     "data": {
      "text/plain": [
       "array([[ 0.08333403,  0.08333406,  0.08333481,  0.08333521,  0.0833334 ,\n",
       "         0.08333333,  0.08333487,  0.08333452,  0.08333531,  3.08331994,\n",
       "         0.08333386,  0.08333666]])"
      ]
     },
     "execution_count": 456,
     "metadata": {},
     "output_type": "execute_result"
    }
   ],
   "source": [
    "P.transform(['FILM CRITICISM IS A WASTE OF TIME'])"
   ]
  },
  {
   "cell_type": "code",
   "execution_count": 450,
   "metadata": {
    "collapsed": true
   },
   "outputs": [],
   "source": [
    "import pickle"
   ]
  },
  {
   "cell_type": "code",
   "execution_count": 451,
   "metadata": {
    "collapsed": true
   },
   "outputs": [],
   "source": [
    "pickle.dump({'pipeline': P}, open('/home/bmcfee/git/nypl-openaudio-discovery-topics/base-model.pkl', 'wb'))"
   ]
  }
 ],
 "metadata": {
  "kernelspec": {
   "display_name": "Python 3.5",
   "language": "python",
   "name": "python3.5"
  },
  "language_info": {
   "codemirror_mode": {
    "name": "ipython",
    "version": 3
   },
   "file_extension": ".py",
   "mimetype": "text/x-python",
   "name": "python",
   "nbconvert_exporter": "python",
   "pygments_lexer": "ipython3",
   "version": "3.5.0"
  },
  "widgets": {
   "state": {},
   "version": "1.1.2"
  }
 },
 "nbformat": 4,
 "nbformat_minor": 0
}
